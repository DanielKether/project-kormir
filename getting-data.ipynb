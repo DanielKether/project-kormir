{
 "cells": [
  {
   "cell_type": "markdown",
   "metadata": {},
   "source": [
    "# Getting the data\n",
    "Stage №1 of [project Kormir](https://github.com/DanielKether/project-kormir). </br>"
   ]
  },
  {
   "cell_type": "markdown",
   "metadata": {},
   "source": [
    "Nothing really special here: tuning and using a public Python package called [Faker](https://github.com/joke2k/faker) to generate some CRM-like data. </br>\n",
    "Treat it like a guide for doing something similar as it was found the fastest way to generate usable data. </br>\n",
    "There is only one reason for this notebook to exist: sensetive data from CRM may harm clients or an employer, so no real data will be used (sry lil scrappers~). </br>\n",
    "Please, note: for this project I use data in Russian language and focus on Bitrix24 CRM widely used in CIS region. </br>\n",
    "\n",
    "### What do you want?\n",
    "The goal for this stage is to create a .csv file with clients' data. </br>\n",
    "It should look the same as the real one we can export from CRM. </br>\n",
    "So there will be default features and the ones that were created by sales department. </br>\n",
    "\n",
    "### How do you get it?\n",
    "The process will include: </br>\n",
    "1- Getting familiar with the package </br>\n",
    "2- Declaring the features needed </br>\n",
    "3- Using standart properties </br>\n",
    "4- Improving existing properties </br>\n",
    "5- Creating new properties </br>\n",
    "6- Generating data </br>\n",
    "7- Loosing data (aka Making it real) </br>\n",
    "8- Exporting data </br>\n",
    "\n",
    "### What does it mean?\n",
    "Customer Relationship Management (CRM) system - a program generally used for tracking sales; can also be seen as a lesser version of ERP (ie SAP) </br>\n",
    "Sales Cycle - a sequence of stages for Sales Manager (SM) to lead clients through; typicaly include ...</br>\n",
    "Churn Stage (or Phase) - a step of Sales Cycle when we get client's refusal; it spotlights the weakness to improve on </br>\n",
    "Conversion Rate - a ratio of clients-in to clients-out at any given process; usually calculated for the whole Sales Cycle, each of it's Stages and per Sales Manager </br>\n",
    "Life Time Value (LTV) - a sum of past and future revenue made from individual client </br>\n",
    "\n",
    "https://blog.hubspot.com/marketing/sales-terms-glossary\n",
    "\n",
    "https://www.indeed.com/career-advice/career-development/sales-terminology\n",
    "\n",
    "### Any tips for real projects?\n",
    "1- Get Real - what you ve got, what you can get offline or even buy </br> \n",
    "2- Scrape 2Gis </br>\n",
    "3- REST API Mockaroo </br>\n",
    "4- OSINT Foreign (bonus) </br>"
   ]
  },
  {
   "cell_type": "markdown",
   "metadata": {},
   "source": [
    "## Step 1. Getting familiar with the package \n",
    "*Click arrow on the left to hide this section*"
   ]
  },
  {
   "cell_type": "code",
   "execution_count": 3,
   "metadata": {},
   "outputs": [],
   "source": [
    "# pip install Faker\n",
    "# help(Faker)"
   ]
  },
  {
   "cell_type": "code",
   "execution_count": 60,
   "metadata": {},
   "outputs": [],
   "source": [
    "from faker import Faker\n",
    "fake = Faker('ru_RU',use_weighting=True)"
   ]
  },
  {
   "cell_type": "code",
   "execution_count": 68,
   "metadata": {},
   "outputs": [
    {
     "name": "stdout",
     "output_type": "stream",
     "text": [
      "Адриан Еремеевич Шашков\n",
      "Овчинников Демьян Денисович\n",
      "Пимен Иосифович Шилов\n",
      "Бажен Устинович Шарапов\n",
      "тов. Коновалов Николай Демьянович\n"
     ]
    }
   ],
   "source": [
    "Faker.seed(36)\n",
    "for e in range(5):\n",
    "    print(fake.name())"
   ]
  },
  {
   "cell_type": "markdown",
   "metadata": {},
   "source": [
    "Fortunately, this package outputs some wierd stuff. </br>\n",
    "Like making up names and calling people 'comrades'. </br>\n",
    "**use_weighting** parameter does not affect the issue. </br>\n",
    "I will format the data properly in the next stages. </br>"
   ]
  },
  {
   "cell_type": "code",
   "execution_count": 69,
   "metadata": {},
   "outputs": [
    {
     "name": "stdout",
     "output_type": "stream",
     "text": [
      "8 218 738 42 79\n",
      "8 820 967 2365\n",
      "+7 (749) 038-7847\n",
      "+7 343 922 13 56\n",
      "8 (096) 572-8941\n"
     ]
    }
   ],
   "source": [
    "for e in range(5):\n",
    "    print(fake.unique.phone_number())\n",
    "\n",
    "# Recomended verion to use:\n",
    "\n",
    "# fake.unique.clear()\n",
    "\n",
    "# numbers = [fake.unique.phone_number() for e in range(1000)]\n",
    "# assert len(set(numbers)) == len(numbers)\n",
    "# print(numbers)"
   ]
  },
  {
   "cell_type": "markdown",
   "metadata": {},
   "source": [
    "To be honest, this one is great. </br>\n",
    "Delete few rows and call a real data. </br>"
   ]
  },
  {
   "cell_type": "markdown",
   "metadata": {},
   "source": [
    "## Step 2. Declaring the features needed"
   ]
  },
  {
   "cell_type": "markdown",
   "metadata": {},
   "source": [
    "Notes:\n",
    "1. Not all of the default features were used.\n",
    "2. \n",
    "3. Created features were made up by me for better analysis. Can be overwritten in project code or added to CRM.\n",
    "\n",
    "### Contact data:\n",
    "**Deafault features:**\n",
    "- Contact ID\n",
    "- Contact Last Name\n",
    "- Contact First Name\n",
    "- Contact Middle Name\n",
    "- Contact Date of Birth\n",
    "- Contact Job Title\n",
    "- Contact Phone Number\n",
    "- Contact Email\n",
    "- Company Name (Shared)\n",
    "- Contact Type\n",
    "- Marketing Source (Shared)\n",
    "- Employee Name (Shared)\n",
    "- Contact Comment\n",
    "- Employee Task Name (Shared)\n",
    "- Deal Name (Shared)\n",
    "\n",
    "**Created features:**\n",
    "\n",
    "\n",
    "### Employee data:\n",
    "**Deafault features:**\n",
    "- Employee ID\n",
    "- Employee Last Name\n",
    "- Employee First Name\n",
    "- Employee Middle Name\n",
    "- Employee Date of Birth\n",
    "- Employee Job Title\n",
    "- Employee Department\n",
    "- Employee Hire Date\n",
    "- Employee Task Name\n",
    "- Employee Task Comment\n",
    "- Employee Task Creator\n",
    "- Employee Task Performer\n",
    "- Employee Task Start Date\n",
    "- Employee Task Deadline\n",
    "\n",
    "**Created features:**\n",
    "\n",
    "\n",
    "### Deal data:\n",
    "**Deafault features:**\n",
    "- Deal ID\n",
    "- Deal Name\n",
    "- Deal Stage\n",
    "- Deal Total Value\n",
    "- Deal Closing Date\n",
    "- Contact Name (Shared)\n",
    "- Contact Phone Number (Shared)\n",
    "- Company Name (Shared)\n",
    "- Deal Type\n",
    "- Marketing Source (Shared)\n",
    "- Employee Name (Shared)\n",
    "- Deal Comment\n",
    "- Product Name (Shared)\n",
    "- Employee Task Name (Shared)\n",
    "\n",
    "**Created features:**\n"
   ]
  },
  {
   "cell_type": "code",
   "execution_count": null,
   "metadata": {},
   "outputs": [],
   "source": []
  }
 ],
 "metadata": {
  "kernelspec": {
   "display_name": "Python 3",
   "language": "python",
   "name": "python3"
  },
  "language_info": {
   "codemirror_mode": {
    "name": "ipython",
    "version": 3
   },
   "file_extension": ".py",
   "mimetype": "text/x-python",
   "name": "python",
   "nbconvert_exporter": "python",
   "pygments_lexer": "ipython3",
   "version": "3.11.2"
  }
 },
 "nbformat": 4,
 "nbformat_minor": 2
}
